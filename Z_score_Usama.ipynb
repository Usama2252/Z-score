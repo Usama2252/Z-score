{
  "nbformat": 4,
  "nbformat_minor": 0,
  "metadata": {
    "colab": {
      "name": "Z score Usama.ipynb",
      "provenance": []
    },
    "kernelspec": {
      "name": "python3",
      "display_name": "Python 3"
    },
    "language_info": {
      "name": "python"
    }
  },
  "cells": [
    {
      "cell_type": "code",
      "execution_count": 1,
      "metadata": {
        "id": "QJh2tjWv2ZgO"
      },
      "outputs": [],
      "source": [
        "#import libraries    \n",
        "import numpy as np\n",
        "import pandas as pd\n",
        "import scipy.stats as stats"
      ]
    },
    {
      "cell_type": "code",
      "source": [
        "data = np.array ([3,9,9,12,23,23,15,16,19,33])"
      ],
      "metadata": {
        "id": "k7aEuznp2y6H"
      },
      "execution_count": 2,
      "outputs": []
    },
    {
      "cell_type": "code",
      "source": [
        "#calculate the Z-Score for eac value in the array\n",
        "stats.zscore(data)"
      ],
      "metadata": {
        "colab": {
          "base_uri": "https://localhost:8080/"
        },
        "id": "wSlunJCy3Iqd",
        "outputId": "01792957-546f-41e4-e604-937771ec16de"
      },
      "execution_count": 3,
      "outputs": [
        {
          "output_type": "execute_result",
          "data": {
            "text/plain": [
              "array([-1.60120614, -0.87338517, -0.87338517, -0.50947468,  0.82486377,\n",
              "        0.82486377, -0.14556419, -0.0242607 ,  0.33964979,  2.03789872])"
            ]
          },
          "metadata": {},
          "execution_count": 3
        }
      ]
    }
  ]
}